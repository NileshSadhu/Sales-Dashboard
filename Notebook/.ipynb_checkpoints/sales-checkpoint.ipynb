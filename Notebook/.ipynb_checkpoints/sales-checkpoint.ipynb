{
 "cells": [
  {
   "cell_type": "code",
   "execution_count": 3,
   "id": "e5f40173-1721-47f9-9924-e5248f5977eb",
   "metadata": {},
   "outputs": [],
   "source": [
    "import pandas as pd"
   ]
  },
  {
   "cell_type": "code",
   "execution_count": 4,
   "id": "f8bfb840-23fb-4aad-92c7-49c83140b9c6",
   "metadata": {},
   "outputs": [
    {
     "data": {
      "text/html": [
       "<div>\n",
       "<style scoped>\n",
       "    .dataframe tbody tr th:only-of-type {\n",
       "        vertical-align: middle;\n",
       "    }\n",
       "\n",
       "    .dataframe tbody tr th {\n",
       "        vertical-align: top;\n",
       "    }\n",
       "\n",
       "    .dataframe thead th {\n",
       "        text-align: right;\n",
       "    }\n",
       "</style>\n",
       "<table border=\"1\" class=\"dataframe\">\n",
       "  <thead>\n",
       "    <tr style=\"text-align: right;\">\n",
       "      <th></th>\n",
       "      <th>InvoiceNo</th>\n",
       "      <th>StockCode</th>\n",
       "      <th>Description</th>\n",
       "      <th>Quantity</th>\n",
       "      <th>InvoiceDate</th>\n",
       "      <th>UnitPrice</th>\n",
       "      <th>CustomerID</th>\n",
       "      <th>Country</th>\n",
       "    </tr>\n",
       "  </thead>\n",
       "  <tbody>\n",
       "    <tr>\n",
       "      <th>0</th>\n",
       "      <td>536365</td>\n",
       "      <td>85123A</td>\n",
       "      <td>WHITE HANGING HEART T-LIGHT HOLDER</td>\n",
       "      <td>6</td>\n",
       "      <td>2010-12-01 08:26:00</td>\n",
       "      <td>2.55</td>\n",
       "      <td>17850.0</td>\n",
       "      <td>United Kingdom</td>\n",
       "    </tr>\n",
       "    <tr>\n",
       "      <th>1</th>\n",
       "      <td>536365</td>\n",
       "      <td>71053</td>\n",
       "      <td>WHITE METAL LANTERN</td>\n",
       "      <td>6</td>\n",
       "      <td>2010-12-01 08:26:00</td>\n",
       "      <td>3.39</td>\n",
       "      <td>17850.0</td>\n",
       "      <td>United Kingdom</td>\n",
       "    </tr>\n",
       "    <tr>\n",
       "      <th>2</th>\n",
       "      <td>536365</td>\n",
       "      <td>84406B</td>\n",
       "      <td>CREAM CUPID HEARTS COAT HANGER</td>\n",
       "      <td>8</td>\n",
       "      <td>2010-12-01 08:26:00</td>\n",
       "      <td>2.75</td>\n",
       "      <td>17850.0</td>\n",
       "      <td>United Kingdom</td>\n",
       "    </tr>\n",
       "    <tr>\n",
       "      <th>3</th>\n",
       "      <td>536365</td>\n",
       "      <td>84029G</td>\n",
       "      <td>KNITTED UNION FLAG HOT WATER BOTTLE</td>\n",
       "      <td>6</td>\n",
       "      <td>2010-12-01 08:26:00</td>\n",
       "      <td>3.39</td>\n",
       "      <td>17850.0</td>\n",
       "      <td>United Kingdom</td>\n",
       "    </tr>\n",
       "    <tr>\n",
       "      <th>4</th>\n",
       "      <td>536365</td>\n",
       "      <td>84029E</td>\n",
       "      <td>RED WOOLLY HOTTIE WHITE HEART.</td>\n",
       "      <td>6</td>\n",
       "      <td>2010-12-01 08:26:00</td>\n",
       "      <td>3.39</td>\n",
       "      <td>17850.0</td>\n",
       "      <td>United Kingdom</td>\n",
       "    </tr>\n",
       "    <tr>\n",
       "      <th>5</th>\n",
       "      <td>536365</td>\n",
       "      <td>22752</td>\n",
       "      <td>SET 7 BABUSHKA NESTING BOXES</td>\n",
       "      <td>2</td>\n",
       "      <td>2010-12-01 08:26:00</td>\n",
       "      <td>7.65</td>\n",
       "      <td>17850.0</td>\n",
       "      <td>United Kingdom</td>\n",
       "    </tr>\n",
       "    <tr>\n",
       "      <th>6</th>\n",
       "      <td>536365</td>\n",
       "      <td>21730</td>\n",
       "      <td>GLASS STAR FROSTED T-LIGHT HOLDER</td>\n",
       "      <td>6</td>\n",
       "      <td>2010-12-01 08:26:00</td>\n",
       "      <td>4.25</td>\n",
       "      <td>17850.0</td>\n",
       "      <td>United Kingdom</td>\n",
       "    </tr>\n",
       "    <tr>\n",
       "      <th>7</th>\n",
       "      <td>536366</td>\n",
       "      <td>22633</td>\n",
       "      <td>HAND WARMER UNION JACK</td>\n",
       "      <td>6</td>\n",
       "      <td>2010-12-01 08:28:00</td>\n",
       "      <td>1.85</td>\n",
       "      <td>17850.0</td>\n",
       "      <td>United Kingdom</td>\n",
       "    </tr>\n",
       "    <tr>\n",
       "      <th>8</th>\n",
       "      <td>536366</td>\n",
       "      <td>22632</td>\n",
       "      <td>HAND WARMER RED POLKA DOT</td>\n",
       "      <td>6</td>\n",
       "      <td>2010-12-01 08:28:00</td>\n",
       "      <td>1.85</td>\n",
       "      <td>17850.0</td>\n",
       "      <td>United Kingdom</td>\n",
       "    </tr>\n",
       "    <tr>\n",
       "      <th>9</th>\n",
       "      <td>536367</td>\n",
       "      <td>84879</td>\n",
       "      <td>ASSORTED COLOUR BIRD ORNAMENT</td>\n",
       "      <td>32</td>\n",
       "      <td>2010-12-01 08:34:00</td>\n",
       "      <td>1.69</td>\n",
       "      <td>13047.0</td>\n",
       "      <td>United Kingdom</td>\n",
       "    </tr>\n",
       "  </tbody>\n",
       "</table>\n",
       "</div>"
      ],
      "text/plain": [
       "  InvoiceNo StockCode                          Description  Quantity  \\\n",
       "0    536365    85123A   WHITE HANGING HEART T-LIGHT HOLDER         6   \n",
       "1    536365     71053                  WHITE METAL LANTERN         6   \n",
       "2    536365    84406B       CREAM CUPID HEARTS COAT HANGER         8   \n",
       "3    536365    84029G  KNITTED UNION FLAG HOT WATER BOTTLE         6   \n",
       "4    536365    84029E       RED WOOLLY HOTTIE WHITE HEART.         6   \n",
       "5    536365     22752         SET 7 BABUSHKA NESTING BOXES         2   \n",
       "6    536365     21730    GLASS STAR FROSTED T-LIGHT HOLDER         6   \n",
       "7    536366     22633               HAND WARMER UNION JACK         6   \n",
       "8    536366     22632            HAND WARMER RED POLKA DOT         6   \n",
       "9    536367     84879        ASSORTED COLOUR BIRD ORNAMENT        32   \n",
       "\n",
       "          InvoiceDate  UnitPrice  CustomerID         Country  \n",
       "0 2010-12-01 08:26:00       2.55     17850.0  United Kingdom  \n",
       "1 2010-12-01 08:26:00       3.39     17850.0  United Kingdom  \n",
       "2 2010-12-01 08:26:00       2.75     17850.0  United Kingdom  \n",
       "3 2010-12-01 08:26:00       3.39     17850.0  United Kingdom  \n",
       "4 2010-12-01 08:26:00       3.39     17850.0  United Kingdom  \n",
       "5 2010-12-01 08:26:00       7.65     17850.0  United Kingdom  \n",
       "6 2010-12-01 08:26:00       4.25     17850.0  United Kingdom  \n",
       "7 2010-12-01 08:28:00       1.85     17850.0  United Kingdom  \n",
       "8 2010-12-01 08:28:00       1.85     17850.0  United Kingdom  \n",
       "9 2010-12-01 08:34:00       1.69     13047.0  United Kingdom  "
      ]
     },
     "execution_count": 4,
     "metadata": {},
     "output_type": "execute_result"
    }
   ],
   "source": [
    "df = pd.read_excel(\"../Data/raw/Online Retail.xlsx\", engine='openpyxl')\n",
    "df.head(10)"
   ]
  },
  {
   "cell_type": "markdown",
   "id": "9805f9aa-48df-4f2e-996a-1cc88d1bf077",
   "metadata": {},
   "source": [
    "## Remove rows with null vales"
   ]
  },
  {
   "cell_type": "code",
   "execution_count": 16,
   "id": "b3327e47-36dd-4cdf-9430-1791bbbfbd66",
   "metadata": {},
   "outputs": [],
   "source": [
    "# Check no of null values in the data."
   ]
  },
  {
   "cell_type": "code",
   "execution_count": 9,
   "id": "545d42b9-13d1-42d7-8951-74f67e8dfb71",
   "metadata": {},
   "outputs": [
    {
     "name": "stdout",
     "output_type": "stream",
     "text": [
      "InvoiceNo           0\n",
      "StockCode           0\n",
      "Description      1454\n",
      "Quantity            0\n",
      "InvoiceDate         0\n",
      "UnitPrice           0\n",
      "CustomerID     135080\n",
      "Country             0\n",
      "dtype: int64\n"
     ]
    }
   ],
   "source": [
    "null_per_col = df.isnull().sum()\n",
    "print(null_per_col)"
   ]
  },
  {
   "cell_type": "code",
   "execution_count": 11,
   "id": "e0f73fec-ad3e-4223-aa39-b45fedf77db8",
   "metadata": {},
   "outputs": [
    {
     "name": "stdout",
     "output_type": "stream",
     "text": [
      "Total number of null values : 136534\n"
     ]
    }
   ],
   "source": [
    "total_null = df.isnull().sum().sum()\n",
    "print(f\"Total number of null values : {total_null}\")"
   ]
  },
  {
   "cell_type": "code",
   "execution_count": 13,
   "id": "9ee48d07-1937-4fd6-9be3-3d7bc9439f79",
   "metadata": {},
   "outputs": [],
   "source": [
    "df.dropna(inplace=True)"
   ]
  },
  {
   "cell_type": "code",
   "execution_count": 15,
   "id": "edea64a6-22c5-4347-9b56-d71cb419b663",
   "metadata": {},
   "outputs": [
    {
     "name": "stdout",
     "output_type": "stream",
     "text": [
      "After cleaning null values : 0\n"
     ]
    }
   ],
   "source": [
    "total_null = df.isnull().sum().sum()\n",
    "print(f\"After cleaning null values : {total_null}\")"
   ]
  },
  {
   "cell_type": "markdown",
   "id": "693fd298-d4f0-4235-88c4-e48c42d8b0d5",
   "metadata": {},
   "source": [
    "## Remove Duplicates from Data"
   ]
  },
  {
   "cell_type": "code",
   "execution_count": 17,
   "id": "c929ba70-0269-4ddb-b3c3-0b89082faa3f",
   "metadata": {},
   "outputs": [],
   "source": [
    "# Check no of duplicates valuesin the dataset"
   ]
  },
  {
   "cell_type": "code",
   "execution_count": 21,
   "id": "f4a06bf8-6e19-494b-9d4c-b160ea531859",
   "metadata": {},
   "outputs": [
    {
     "name": "stdout",
     "output_type": "stream",
     "text": [
      "Total duplicate rows: 5225\n"
     ]
    }
   ],
   "source": [
    "duplicate_count = df.duplicated().sum()\n",
    "print(f\"Total duplicate rows: {duplicate_count}\")"
   ]
  },
  {
   "cell_type": "code",
   "execution_count": 22,
   "id": "eef1a8b4-b00c-4367-9ceb-f5cf20a7bbef",
   "metadata": {},
   "outputs": [],
   "source": [
    "# Show duplicate rows"
   ]
  },
  {
   "cell_type": "code",
   "execution_count": 23,
   "id": "a242f087-8c10-42a3-a0bd-b8971f72426d",
   "metadata": {},
   "outputs": [
    {
     "name": "stdout",
     "output_type": "stream",
     "text": [
      "    InvoiceNo StockCode                        Description  Quantity  \\\n",
      "517    536409     21866        UNION JACK FLAG LUGGAGE TAG         1   \n",
      "527    536409     22866      HAND WARMER SCOTTY DOG DESIGN         1   \n",
      "537    536409     22900    SET 2 TEA TOWELS I LOVE LONDON          1   \n",
      "539    536409     22111       SCOTTIE DOG HOT WATER BOTTLE         1   \n",
      "555    536412     22327  ROUND SNACK BOXES SET OF 4 SKULLS         1   \n",
      "\n",
      "            InvoiceDate  UnitPrice  CustomerID         Country  \n",
      "517 2010-12-01 11:45:00       1.25     17908.0  United Kingdom  \n",
      "527 2010-12-01 11:45:00       2.10     17908.0  United Kingdom  \n",
      "537 2010-12-01 11:45:00       2.95     17908.0  United Kingdom  \n",
      "539 2010-12-01 11:45:00       4.95     17908.0  United Kingdom  \n",
      "555 2010-12-01 11:49:00       2.95     17920.0  United Kingdom  \n"
     ]
    }
   ],
   "source": [
    "duplicates = df[df.duplicated()]\n",
    "print(duplicates.head())"
   ]
  },
  {
   "cell_type": "code",
   "execution_count": 25,
   "id": "9c69e36d-813a-4489-b32c-cdacc336c0fe",
   "metadata": {},
   "outputs": [
    {
     "data": {
      "text/plain": [
       "384639"
      ]
     },
     "execution_count": 25,
     "metadata": {},
     "output_type": "execute_result"
    }
   ],
   "source": [
    "df['InvoiceNo'].duplicated().sum()"
   ]
  },
  {
   "cell_type": "code",
   "execution_count": 26,
   "id": "b7a2d4f3-9a01-4794-bcb4-425d43dd68ed",
   "metadata": {},
   "outputs": [],
   "source": [
    "df.drop_duplicates(inplace=True)"
   ]
  },
  {
   "cell_type": "code",
   "execution_count": 27,
   "id": "352a7281-3408-4928-9880-9e4a23cee41d",
   "metadata": {},
   "outputs": [
    {
     "name": "stdout",
     "output_type": "stream",
     "text": [
      "Total duplicate rows: 0\n"
     ]
    }
   ],
   "source": [
    "duplicate_count = df.duplicated().sum()\n",
    "print(f\"Total duplicate rows: {duplicate_count}\")"
   ]
  },
  {
   "cell_type": "markdown",
   "id": "2731c73b-6fe9-4fbc-920b-fdcb2104b843",
   "metadata": {},
   "source": [
    "## Seprate Date and Time"
   ]
  },
  {
   "cell_type": "code",
   "execution_count": 28,
   "id": "b1bc68fc-88f2-44ac-934e-88d78a719a8e",
   "metadata": {},
   "outputs": [],
   "source": [
    "df['InvoiceDate'] = pd.to_datetime(df['InvoiceDate'])"
   ]
  },
  {
   "cell_type": "code",
   "execution_count": 29,
   "id": "7efa6a54-b7ba-48e1-a717-0efbaf9691e8",
   "metadata": {},
   "outputs": [],
   "source": [
    "df['Date'] = df['InvoiceDate'].dt.date"
   ]
  },
  {
   "cell_type": "code",
   "execution_count": 30,
   "id": "6c9db2ab-dee7-42c1-b7e2-ae41d8ad411e",
   "metadata": {},
   "outputs": [],
   "source": [
    "df['Time'] = df['InvoiceDate'].dt.time"
   ]
  },
  {
   "cell_type": "code",
   "execution_count": 31,
   "id": "e6a8fb8a-df83-4cf8-ae48-7e20c8d61360",
   "metadata": {},
   "outputs": [],
   "source": [
    "df.drop('InvoiceDate', axis=1, inplace=True)"
   ]
  },
  {
   "cell_type": "code",
   "execution_count": 35,
   "id": "c39cd58c-29f8-4e1c-a6b6-80b314281da8",
   "metadata": {},
   "outputs": [
    {
     "data": {
      "text/plain": [
       "['InvoiceNo',\n",
       " 'StockCode',\n",
       " 'Description',\n",
       " 'Quantity',\n",
       " 'UnitPrice',\n",
       " 'CustomerID',\n",
       " 'Country',\n",
       " 'Date',\n",
       " 'Time']"
      ]
     },
     "execution_count": 35,
     "metadata": {},
     "output_type": "execute_result"
    }
   ],
   "source": [
    "list(df)"
   ]
  },
  {
   "cell_type": "markdown",
   "id": "9bef5080-2168-472a-ab0a-fbe20f537f00",
   "metadata": {},
   "source": [
    "## Add TotalSales Column"
   ]
  },
  {
   "cell_type": "code",
   "execution_count": 36,
   "id": "bd64bb30-7091-4c40-8b3f-ce03421ae982",
   "metadata": {},
   "outputs": [],
   "source": [
    "df['TotalSales'] = df['Quantity'] * df['UnitPrice']"
   ]
  },
  {
   "cell_type": "code",
   "execution_count": 37,
   "id": "5f110ccb-e23f-419f-9769-2e380905d478",
   "metadata": {},
   "outputs": [
    {
     "data": {
      "text/plain": [
       "0    15.30\n",
       "1    20.34\n",
       "2    22.00\n",
       "3    20.34\n",
       "4    20.34\n",
       "5    15.30\n",
       "6    25.50\n",
       "7    11.10\n",
       "8    11.10\n",
       "9    54.08\n",
       "Name: TotalSales, dtype: float64"
      ]
     },
     "execution_count": 37,
     "metadata": {},
     "output_type": "execute_result"
    }
   ],
   "source": [
    "df['TotalSales'].head(10)"
   ]
  },
  {
   "cell_type": "code",
   "execution_count": 38,
   "id": "335c8e11-34dd-456e-84a5-363353b985ec",
   "metadata": {},
   "outputs": [
    {
     "data": {
      "text/plain": [
       "['InvoiceNo',\n",
       " 'StockCode',\n",
       " 'Description',\n",
       " 'Quantity',\n",
       " 'UnitPrice',\n",
       " 'CustomerID',\n",
       " 'Country',\n",
       " 'Date',\n",
       " 'Time',\n",
       " 'TotalSales']"
      ]
     },
     "execution_count": 38,
     "metadata": {},
     "output_type": "execute_result"
    }
   ],
   "source": [
    "list(df)"
   ]
  },
  {
   "cell_type": "markdown",
   "id": "aaf97a99-f47a-4bd7-8b67-ad6e1ba6af7a",
   "metadata": {},
   "source": [
    "## Show Unique Country"
   ]
  },
  {
   "cell_type": "code",
   "execution_count": 40,
   "id": "e1851739-1058-44d5-9c4d-14958f354815",
   "metadata": {},
   "outputs": [
    {
     "data": {
      "text/plain": [
       "array(['United Kingdom', 'France', 'Australia', 'Netherlands', 'Germany',\n",
       "       'Norway', 'EIRE', 'Switzerland', 'Spain', 'Poland', 'Portugal',\n",
       "       'Italy', 'Belgium', 'Lithuania', 'Japan', 'Iceland',\n",
       "       'Channel Islands', 'Denmark', 'Cyprus', 'Sweden', 'Austria',\n",
       "       'Israel', 'Finland', 'Greece', 'Singapore', 'Lebanon',\n",
       "       'United Arab Emirates', 'Saudi Arabia', 'Czech Republic', 'Canada',\n",
       "       'Unspecified', 'Brazil', 'USA', 'European Community', 'Bahrain',\n",
       "       'Malta', 'RSA'], dtype=object)"
      ]
     },
     "execution_count": 40,
     "metadata": {},
     "output_type": "execute_result"
    }
   ],
   "source": [
    "df['Country'].unique()"
   ]
  },
  {
   "cell_type": "code",
   "execution_count": 41,
   "id": "c92b0363-b67c-40e5-a1ed-a1a31740d6b2",
   "metadata": {},
   "outputs": [
    {
     "data": {
      "text/plain": [
       "37"
      ]
     },
     "execution_count": 41,
     "metadata": {},
     "output_type": "execute_result"
    }
   ],
   "source": [
    "df['Country'].nunique()"
   ]
  },
  {
   "cell_type": "code",
   "execution_count": 42,
   "id": "588f6b72-316f-48aa-834c-8bda6ae6b422",
   "metadata": {},
   "outputs": [],
   "source": [
    "# list all countries in alphabetical order"
   ]
  },
  {
   "cell_type": "code",
   "execution_count": 43,
   "id": "04b54a47-05de-4592-bb15-9852a374fdad",
   "metadata": {},
   "outputs": [
    {
     "data": {
      "text/plain": [
       "['Australia',\n",
       " 'Austria',\n",
       " 'Bahrain',\n",
       " 'Belgium',\n",
       " 'Brazil',\n",
       " 'Canada',\n",
       " 'Channel Islands',\n",
       " 'Cyprus',\n",
       " 'Czech Republic',\n",
       " 'Denmark',\n",
       " 'EIRE',\n",
       " 'European Community',\n",
       " 'Finland',\n",
       " 'France',\n",
       " 'Germany',\n",
       " 'Greece',\n",
       " 'Iceland',\n",
       " 'Israel',\n",
       " 'Italy',\n",
       " 'Japan',\n",
       " 'Lebanon',\n",
       " 'Lithuania',\n",
       " 'Malta',\n",
       " 'Netherlands',\n",
       " 'Norway',\n",
       " 'Poland',\n",
       " 'Portugal',\n",
       " 'RSA',\n",
       " 'Saudi Arabia',\n",
       " 'Singapore',\n",
       " 'Spain',\n",
       " 'Sweden',\n",
       " 'Switzerland',\n",
       " 'USA',\n",
       " 'United Arab Emirates',\n",
       " 'United Kingdom',\n",
       " 'Unspecified']"
      ]
     },
     "execution_count": 43,
     "metadata": {},
     "output_type": "execute_result"
    }
   ],
   "source": [
    "sorted(df['Country'].unique())"
   ]
  },
  {
   "cell_type": "code",
   "execution_count": 46,
   "id": "2b953607-2dec-41fd-829c-1f0ae8a6d29e",
   "metadata": {},
   "outputs": [],
   "source": [
    "# Frequency of each country (i.e. number of transactions per country)"
   ]
  },
  {
   "cell_type": "code",
   "execution_count": 47,
   "id": "be862a7c-9b5f-4723-9654-a22ce05a77fe",
   "metadata": {},
   "outputs": [
    {
     "data": {
      "text/plain": [
       "Country\n",
       "United Kingdom          356728\n",
       "Germany                   9480\n",
       "France                    8475\n",
       "EIRE                      7475\n",
       "Spain                     2528\n",
       "Netherlands               2371\n",
       "Belgium                   2069\n",
       "Switzerland               1877\n",
       "Portugal                  1471\n",
       "Australia                 1258\n",
       "Norway                    1086\n",
       "Italy                      803\n",
       "Channel Islands            757\n",
       "Finland                    695\n",
       "Cyprus                     611\n",
       "Sweden                     461\n",
       "Austria                    401\n",
       "Denmark                    389\n",
       "Japan                      358\n",
       "Poland                     341\n",
       "USA                        291\n",
       "Israel                     247\n",
       "Unspecified                241\n",
       "Singapore                  229\n",
       "Iceland                    182\n",
       "Canada                     151\n",
       "Greece                     146\n",
       "Malta                      127\n",
       "United Arab Emirates        68\n",
       "European Community          61\n",
       "RSA                         58\n",
       "Lebanon                     45\n",
       "Lithuania                   35\n",
       "Brazil                      32\n",
       "Czech Republic              30\n",
       "Bahrain                     17\n",
       "Saudi Arabia                10\n",
       "Name: count, dtype: int64"
      ]
     },
     "execution_count": 47,
     "metadata": {},
     "output_type": "execute_result"
    }
   ],
   "source": [
    "df['Country'].value_counts()"
   ]
  },
  {
   "cell_type": "code",
   "execution_count": 49,
   "id": "88a74d33-e276-4ede-acdc-69a5c8868e00",
   "metadata": {},
   "outputs": [
    {
     "name": "stdout",
     "output_type": "stream",
     "text": [
      "Country\n",
      "United Kingdom          6747156.154\n",
      "Netherlands              284661.540\n",
      "EIRE                     250001.780\n",
      "Germany                  221509.470\n",
      "France                   196626.050\n",
      "Australia                137009.770\n",
      "Switzerland               55739.400\n",
      "Spain                     54756.030\n",
      "Belgium                   40910.960\n",
      "Sweden                    36585.410\n",
      "Japan                     35340.620\n",
      "Norway                    35163.460\n",
      "Portugal                  28995.760\n",
      "Finland                   22326.740\n",
      "Channel Islands           20076.390\n",
      "Denmark                   18768.140\n",
      "Italy                     16890.510\n",
      "Cyprus                    12858.760\n",
      "Austria                   10154.320\n",
      "Singapore                  9120.390\n",
      "Poland                     7213.140\n",
      "Israel                     6988.400\n",
      "Greece                     4710.520\n",
      "Iceland                    4310.000\n",
      "Canada                     3666.380\n",
      "Unspecified                2660.770\n",
      "Malta                      2505.470\n",
      "United Arab Emirates       1902.280\n",
      "USA                        1730.920\n",
      "Lebanon                    1693.880\n",
      "Lithuania                  1661.060\n",
      "European Community         1291.750\n",
      "Brazil                     1143.600\n",
      "RSA                        1002.310\n",
      "Czech Republic              707.720\n",
      "Bahrain                     548.400\n",
      "Saudi Arabia                131.170\n",
      "Name: TotalSales, dtype: float64\n"
     ]
    }
   ],
   "source": [
    "country_sales = df.groupby('Country')['TotalSales'].sum().sort_values(ascending=False)\n",
    "print(country_sales)\n"
   ]
  },
  {
   "cell_type": "markdown",
   "id": "986b482e-aa58-4fbe-8475-8eac1b086723",
   "metadata": {},
   "source": [
    "## Saved Cleaned Data"
   ]
  },
  {
   "cell_type": "code",
   "execution_count": 52,
   "id": "fff16fe1-b203-4385-966d-2e8a8df9e8ca",
   "metadata": {},
   "outputs": [],
   "source": [
    "df.to_csv('../Data/cleaned/cleaned_retail_data.csv', index=False)"
   ]
  }
 ],
 "metadata": {
  "kernelspec": {
   "display_name": "Python 3 (ipykernel)",
   "language": "python",
   "name": "python3"
  },
  "language_info": {
   "codemirror_mode": {
    "name": "ipython",
    "version": 3
   },
   "file_extension": ".py",
   "mimetype": "text/x-python",
   "name": "python",
   "nbconvert_exporter": "python",
   "pygments_lexer": "ipython3",
   "version": "3.11.3"
  }
 },
 "nbformat": 4,
 "nbformat_minor": 5
}
